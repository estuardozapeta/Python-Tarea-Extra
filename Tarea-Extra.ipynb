{
 "cells": [
  {
   "cell_type": "markdown",
   "metadata": {},
   "source": [
    "## Ejercicios de Matrices"
   ]
  },
  {
   "cell_type": "code",
   "execution_count": 3,
   "metadata": {},
   "outputs": [],
   "source": [
    "import numpy as np"
   ]
  },
  {
   "cell_type": "markdown",
   "metadata": {},
   "source": [
    "**Ejercicio 1**: Investigar y ejemplificar diferencias entre np.array y np.matrix"
   ]
  },
  {
   "cell_type": "markdown",
   "metadata": {},
   "source": [
    "* **np.mat**. Este tipo de estructura solo admite la creación de matrices de dos dimensiones.\n",
    "* **np.array**. Por otro lado y a diferencia de np.mat, con array se pueden crear estructuras de N dimensiones.\n",
    "\n",
    "En ambos casos, tanto los objetos matriz como arrays utilizan el argumento .T para devolver la Transpuesta, pero hay algunos elementos agregados con los que cuenta los objetos matrix, poseen .H para la Transpuesta conjugada, y .I para la inversa.\n",
    "\n",
    "Por otro lado una de las ventajas de los arrays es que son más generales que los objetos matriz. ¿Que pasaría si se quisiera implementar una matriz de tres o cuatro dimensiones? Se utilizaría arrays en lugar de matrices, es por que aprender matrices es mucho más trabajo y se tendría que conocer cada una de sus limitaciones, que son varias en comparación con los arrays.\n",
    "\n",
    "#### Otras ventajas utilizando arrays\n",
    "\n",
    "* Muchas funciones de numpy devuelven arrays, no matrices.\n",
    "* Existe una evidente diferencia en operaciones element-wise y operaciones de algebra lineal.\n",
    "\n",
    "Algunos ejemplos:\n",
    "\n",
    "#### Matrix"
   ]
  },
  {
   "cell_type": "code",
   "execution_count": 76,
   "metadata": {},
   "outputs": [
    {
     "name": "stdout",
     "output_type": "stream",
     "text": [
      "[[ 25 100]\n",
      " [ 77  49]]\n",
      "[[62.5]\n",
      " [63. ]]\n"
     ]
    },
    {
     "data": {
      "text/plain": [
       "matrix([[-37.5,  37.5],\n",
       "        [ 14. , -14. ]])"
      ]
     },
     "execution_count": 76,
     "metadata": {},
     "output_type": "execute_result"
    }
   ],
   "source": [
    "matrix = np.mat([[25,100],[77,49]])\n",
    "print(matrix)\n",
    "\n",
    "mean = matrix.mean(1)\n",
    "print(mean)\n",
    "\n",
    "mean.shape\n",
    "matrix - mean\n"
   ]
  },
  {
   "cell_type": "markdown",
   "metadata": {},
   "source": [
    "#### Arrays"
   ]
  },
  {
   "cell_type": "code",
   "execution_count": 78,
   "metadata": {},
   "outputs": [
    {
     "name": "stdout",
     "output_type": "stream",
     "text": [
      "[[ 25 100]\n",
      " [ 77  49]]\n",
      "[62.5 63. ]\n",
      "[[-37.5  37. ]\n",
      " [ 14.5 -14. ]]\n"
     ]
    },
    {
     "data": {
      "text/plain": [
       "array([[-37.5,  37.5],\n",
       "       [ 14. , -14. ]])"
      ]
     },
     "execution_count": 78,
     "metadata": {},
     "output_type": "execute_result"
    }
   ],
   "source": [
    "array = np.array([[25,100],[77,49]])\n",
    "print(array)\n",
    "\n",
    "mean_a = array.mean(1)\n",
    "print(mean_a)\n",
    "\n",
    "mean_a.shape\n",
    "print(matrix-mean_a)\n",
    "array - mean_a[:, np.newaxis]\n"
   ]
  },
  {
   "cell_type": "markdown",
   "metadata": {},
   "source": [
    "**Ejercicio 2**: Se tiene una red neuronal sencilla (y simplificada) como la de la siguiente imagen:\n",
    "\n",
    "<img src=\"https://www.oreilly.com/library/view/practical-convolutional-neural/9781788392303/assets/246151fb-7893-448d-b9bb-7a87b387a24b.png\">\n",
    "\n",
    "Donde:\n",
    "* INPUT LAYER: un vector X de tamaño = 2 que representa los datos de entrada\n",
    "* HIDDEN_LAYER :capa oculta con 2 neuronas definidas por los vectores:\n",
    "    * HL1 = [0.25,0.37]\n",
    "    * HL2 = [-8,14]\n",
    "* OUTPUT_LAYER = capa de salida definida por el vector [4,9]\n",
    "\n",
    "Crear una funcion neural_network(X) para calcular:\n",
    "* Calcule la salida de cada neurona en la capa intermedia aplicada a la capa de entrada.\n",
    "* Use el resultado del paso anterior como entrada para la neurona en la capa de salida\n",
    "\n",
    "Utilizando multiplicacion de matrices se debe calcular para cada fila de la matriz de entrada X el valor de las neuronas de la capa intermedia, esto producira una nueva matriz con el mismo numero de filas que X y 2 columnas(1 para cada neurona) , a  los valores de esta matriz se les debe aplicar la funcion \"sigmoid\"(descrita a continuacion) para limitarlos al intervalo de 0 a 1, esto produce una matriz del mismo tamanio pero con valores entre 0 a 1, esta matriz se multiplica matricialmente por la matriz que representa los pesos de la capa de salida  y este proceso produce un nuevo tensor al cual se debe aplicar nuevamente la funcion sigmoid. El resultado debe ser un tensor con el mismo numero de filas que la matriz X y una sola columna(una prediccion para cada fila de X\n",
    "\n",
    "<img src=\"https://cdn-images-1.medium.com/max/1600/1*Xu7B5y9gp0iL5ooBj7LtWw.png\">"
   ]
  },
  {
   "cell_type": "code",
   "execution_count": 72,
   "metadata": {},
   "outputs": [
    {
     "data": {
      "text/plain": [
       "0.999988416671698"
      ]
     },
     "execution_count": 72,
     "metadata": {},
     "output_type": "execute_result"
    }
   ],
   "source": [
    "def sigmoid(x): #convertir los valores de x al rango de 0 a 1\n",
    "    \n",
    "    return 1/(1+np.exp(-x))\n",
    "\n",
    "def neural_network(X):\n",
    "    HL1 = [0.25,0.37]\n",
    "    HL2 = [-8,14]\n",
    "    H_Layer = np.array([np.dot(X,HL1),np.dot(X,HL2)])\n",
    "    s = sigmoid(H_Layer)\n",
    "    OL = [4,9]\n",
    "    O_Layer = sigmoid(np.dot(s,OL))\n",
    "    \n",
    "    return O_Layer\n",
    "\n",
    "X = np.array([0.50,0.72])\n",
    "\n",
    "neural_network = neural_network(X)\n",
    "neural_network"
   ]
  },
  {
   "cell_type": "markdown",
   "metadata": {},
   "source": [
    "**Ejercicio 3**: Implementar en una funcion neural_network(X) la red neuronal definida por la siguiente arquitectura:\n",
    "\n",
    "<img src=\"http://i.imgur.com/UNlffE1.png\">\n",
    "\n",
    "Podemos validar si fue correctamente implementada si usamos como entrada el vector x=[1,1] . Debemos obtener el resultado mostrado en la imagen.\n",
    "\n",
    "Una vez tenemos la implementacion correcta, cambiar la funcion de activacion de la capa de salida por la funcion de activacion ReLu(https://en.wikipedia.org/wiki/Rectifier_(neural_networks)):\n",
    "\n",
    "<img src=\"https://cdn-images-1.medium.com/max/1600/1*DfMRHwxY1gyyDmrIAd-gjQ.png\">\n",
    "\n",
    "Luego evaluar la red neuronal sobre la matriz de datos X(de manera vectorizada):"
   ]
  },
  {
   "cell_type": "code",
   "execution_count": 66,
   "metadata": {},
   "outputs": [
    {
     "name": "stdout",
     "output_type": "stream",
     "text": [
      "1.014762\n",
      "1.014762\n"
     ]
    }
   ],
   "source": [
    "def neural_network(X):\n",
    "    \n",
    "    HL1 = [0.712,0.112]\n",
    "    HL2 = [0.355,0.855]\n",
    "    HL3 = [0.268,0.468]\n",
    "    \n",
    "    H_Layer1 = np.dot(X,HL1)\n",
    "    H_Layer2 = np.dot(X,HL2)\n",
    "    H_Layer3 = np.dot(X,HL3)\n",
    "    \n",
    "    H_Layer = np.array([OL1,OL2,OL3])\n",
    "    OL = np.array([0.116,0.329,0.708])\n",
    "    O_Layer = np.dot(H_Layer, OL)    \n",
    "    \n",
    "    return O_Layer\n",
    "\n",
    "X = [1,1]\n",
    "print (neural_network(X))\n",
    "\n",
    "X = np.array([\n",
    "    [0.1,2],\n",
    "    [0.3,0.45],\n",
    "    [5,9],\n",
    "    [12,6],\n",
    "    [7,5],\n",
    "    [0.3,0.8],\n",
    "    [12,5],\n",
    "    [100,200],\n",
    "    [7,8],\n",
    "    [300,1500]])\n",
    "\n",
    "print (neural_network(X))"
   ]
  }
 ],
 "metadata": {
  "kernelspec": {
   "display_name": "Python 3",
   "language": "python",
   "name": "python3"
  },
  "language_info": {
   "codemirror_mode": {
    "name": "ipython",
    "version": 3
   },
   "file_extension": ".py",
   "mimetype": "text/x-python",
   "name": "python",
   "nbconvert_exporter": "python",
   "pygments_lexer": "ipython3",
   "version": "3.7.4"
  }
 },
 "nbformat": 4,
 "nbformat_minor": 4
}
